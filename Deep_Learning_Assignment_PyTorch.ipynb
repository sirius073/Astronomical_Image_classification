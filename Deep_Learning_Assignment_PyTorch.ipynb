{
 "cells": [
  {
   "cell_type": "markdown",
   "id": "388271cb",
   "metadata": {},
   "source": [
    "# Deep Learning Assignment\n",
    "**Instructions:** You have recently watched the first four videos of the 3Blue1Brown deep learning series and the basics of Pytorch videos. This assignment will test your understanding of the concepts presented in those videos. Please answer the questions thoroughly, and write your code in Python using popular deep learning libraries like TensorFlow or PyTorch.\n"
   ]
  },
  {
   "cell_type": "markdown",
   "id": "0b702030",
   "metadata": {},
   "source": [
    "## Theoretical Questions\n"
   ]
  },
  {
   "cell_type": "markdown",
   "id": "081400d3",
   "metadata": {},
   "source": [
    "### 1. Neural Network Basics:\n",
    "Explain the following terms in the context of neural networks:\n",
    " 1. Neuron: \n",
    " 2. Activation Function:\n",
    " 3. Weights and Biases:\n",
    " 4. Feedforward Process:\n",
    " 5. Backpropagation:\n"
   ]
  },
  {
   "cell_type": "markdown",
   "id": "7d900c62",
   "metadata": {},
   "source": [
    "Neuron: A neuron is the basic computational unit in a neural network. It takes inputs, weights, and biases as parameters, computes an intermediary output (a weighted sum of the inputs), and then applies an activation function to produce the final output. This process allows neurons to pass transformed information to subsequent layers.\n",
    "\n",
    "Activation Function: The activation function introduces non-linearity into the neural network, setting it apart from a simple linear regression model. Each neuron applies the activation function to its output. The primary purpose is to enable the network to learn and model complex patterns in data. Without the activation function, no matter how many layers are added, the model would remain linear, limiting its ability to solve non-linear problems.\n",
    "\n",
    "Weights and Biases: These are the learnable parameters of a neural network. Initially, weights and biases are assigned random or predefined values. During training, they are updated using the gradients of the loss function, computed through backpropagation. The gradients guide how weights and biases should adjust to minimize the loss, and an optimization algorithm like gradient descent fine-tunes them, with the learning rate controlling the update magnitude. Over time, this process allows the network to learn the optimal parameters for making accurate predictions by reducing error.\n",
    "\n",
    "Feedforward Process: This refers to the flow of input data through the neural network, layer by layer, to produce an output, without any feedback or looping. In each layer, neurons take inputs, compute a weighted sum, add biases, and apply an activation function to generate an output, which is then passed to the next layer.\n",
    "\n",
    "Backpropagation: Backpropagation is the key process through which the network learns and improves its performance. It involves calculating the gradient of the loss function with respect to the weights and biases, starting from the output layer and moving backward through the network. This process updates the parameters to minimize errors, often using an optimization algorithm such as gradient descent. It allows the model to adjust its weights and biases based on the error, enabling it to better fit the data with each iteration."
   ]
  },
  {
   "cell_type": "markdown",
   "id": "5f7f2c97",
   "metadata": {},
   "source": [
    "### 2. Visualizing Neural Networks:\n",
    "Based on the videos, why is visualizing neural networks as \"function layers\" a useful way to understand their operation? Provide an example of how a simple neural network might be visualized this way and what each layer represents.\n"
   ]
  },
  {
   "cell_type": "markdown",
   "id": "1df3fc0c",
   "metadata": {},
   "source": [
    "Visualizing neural networks as \"function layers\" helps us simplify and understand their complex structure in a more intuitive and manageable way. By breaking the network into discrete layers, each performing a specific function, we can better comprehend how the network operates as a whole. This approach allows us to examine each layer individually, providing clarity on its role, inputs, outputs, and the transformations it applies to the data. It gives us a detailed understanding of how data flows through the network, how it is processed at each step, and how the model learns and improves through training. This visualization helps in analyzing and optimizing the model more effectively.\n",
    "\n",
    "Each layer of the network receives certain inputs with multiple features, applies its own learnable parameters (weights and biases), and passes the result through an activation function to produce an output. This helps the layer progressively extract meaningful patterns from the data. Furthermore, all the layers together work in harmony to enable the entire model to understand the dataset better and make more accurate predictions on unseen inputs.\n",
    "\n",
    "Example of visualizing a simple 3-layer neural network:\n",
    "\n",
    "**Input Layer:** This layer receives the raw input data (e.g., features from a dataset) and passes it directly to the hidden layer without any transformation or learning.\n",
    "\n",
    "**Hidden Layer:** This layer takes the input from the previous layer, processes it using the weights, biases, and an activation function (like ReLU), and produces a transformed output. It helps extract meaningful features from the input data. The output is then passed to the output layer.\n",
    "\n",
    "**Output Layer:** The output layer takes the processed data from the hidden layer, applies further transformations, and produces the final prediction (e.g., a probability score for classification). After this, backpropagation begins, updating the weights and biases in each layer to minimize the loss and improve the model’s performance."
   ]
  },
  {
   "cell_type": "markdown",
   "id": "86f62a8c",
   "metadata": {},
   "source": [
    "## Coding Questions\n"
   ]
  },
  {
   "cell_type": "markdown",
   "id": "2473c8eb",
   "metadata": {},
   "source": [
    "Run the below cells before running/doing the other to install all the dependancies for the assignment"
   ]
  },
  {
   "cell_type": "code",
   "execution_count": null,
   "id": "a454d3c7",
   "metadata": {},
   "outputs": [],
   "source": [
    "%pip install numpy\n",
    "%pip install matplotlib\n",
    "%pip install torch"
   ]
  },
  {
   "cell_type": "markdown",
   "id": "d5b2a7e7",
   "metadata": {},
   "source": [
    "### 1. Implementing a Single Neuron:\n",
    "- Write a Python function that simulates a single neuron. The function should take a list of inputs, weights, and a bias, and return the output using a sigmoid activation function.\n"
   ]
  },
  {
   "cell_type": "code",
   "execution_count": 5,
   "id": "925b1137",
   "metadata": {},
   "outputs": [
    {
     "name": "stdout",
     "output_type": "stream",
     "text": [
      "Output: 0.5890404340586651\n"
     ]
    }
   ],
   "source": [
    "import numpy as np\n",
    "\n",
    "def sigmoid(x):\n",
    "    return 1/(1+np.exp(-x))\n",
    "\n",
    "def single_neuron(inputs, weights, bias):\n",
    "    # Calculate the weighted sum of inputs plus the bias\n",
    "    ans = np.dot(inputs, weights) + bias\n",
    "    # Apply the sigmoid activation function to the result\n",
    "    return sigmoid(ans)\n",
    "\n",
    "# Example usage\n",
    "inputs = [0.5, 0.6, 0.1]\n",
    "weights = [0.4, 0.3, 0.8]\n",
    "bias = -0.1\n",
    "output = single_neuron(inputs, weights, bias)\n",
    "print('Output:', output)"
   ]
  },
  {
   "cell_type": "markdown",
   "id": "9d2461b5",
   "metadata": {},
   "source": [
    "### 2. Building a Simple Neural Network:\n",
    "Using a deep learning library (PyTorch), build a simple neural network with one hidden layer. Use this network to perform binary classification on a small dataset (the XOR dataset). Remember the activation function you are supposed to use is the Sigmoid function, use the one given by pytorch itself, no need to refer to Q1\n"
   ]
  },
  {
   "cell_type": "code",
   "execution_count": 10,
   "id": "e6e00831",
   "metadata": {},
   "outputs": [
    {
     "name": "stdout",
     "output_type": "stream",
     "text": [
      "Epoch [500/5000], Loss: 0.67\n",
      "Epoch [1000/5000], Loss: 0.51\n",
      "Epoch [1500/5000], Loss: 0.35\n",
      "Epoch [2000/5000], Loss: 0.24\n",
      "Epoch [2500/5000], Loss: 0.18\n",
      "Epoch [3000/5000], Loss: 0.13\n",
      "Epoch [3500/5000], Loss: 0.10\n",
      "Epoch [4000/5000], Loss: 0.08\n",
      "Epoch [4500/5000], Loss: 0.06\n",
      "Epoch [5000/5000], Loss: 0.05\n",
      "Model Accuracy: 100.00%\n"
     ]
    }
   ],
   "source": [
    "class SimpleNN(nn.Module):\n",
    "    def __init__(self, hidden_size, input_size):\n",
    "        super(SimpleNN, self).__init__()\n",
    "        # First linear layer \n",
    "        self.l1 = nn.Linear(input_size, hidden_size)  \n",
    "        # Sigmoid activation function for non-linearity\n",
    "        self.sig = nn.Sigmoid()\n",
    "        # Second linear layer \n",
    "        self.l2 = nn.Linear(hidden_size, 1)\n",
    "    \n",
    "    # Forward pass function\n",
    "    def forward(self, x):\n",
    "        out = self.l1(x)  # first linear transformation\n",
    "        out = self.sig(out)  # sigmoid activation function to hidden layer output\n",
    "        out = self.l2(out)  # second linear transformation\n",
    "        y_pred = self.sig(out)  # sigmoid activation to output layer for final prediction\n",
    "        return y_pred\n",
    "\n",
    "# defining the model\n",
    "model = SimpleNN(hidden_size=4, input_size=2)  # 4 hidden neurons, 2 input features\n",
    "\n",
    "# Loss function and optimizer\n",
    "lr = 0.001  # Learning rate\n",
    "criterion = nn.BCELoss()  # Binary Cross Entropy Loss for binary classification tasks\n",
    "optimizer = torch.optim.Adam(model.parameters(), lr=lr)  # Adam optimizer for backpropagation\n",
    "\n",
    "# Train the model\n",
    "for epoch in range(5000):  \n",
    "    y_pred = model(X)  # Forward pass\n",
    "    loss = criterion(y_pred, y)  # Compute loss between predicted and actual outputs\n",
    "    \n",
    "    optimizer.zero_grad()  # Clear gradients from the previous step\n",
    "    loss.backward()  # Backpropagation of the gradients \n",
    "    optimizer.step()  # Update weights using the optimizer (Adam)\n",
    "    \n",
    "    # Print the loss every 500 epochs to monitor training progress\n",
    "    if (epoch + 1) % 500 == 0:\n",
    "        print(f'Epoch [{epoch + 1}/5000], Loss: {loss.item():.2f}')\n",
    "\n",
    "with torch.no_grad():\n",
    "    predictions = model(X)\n",
    "    predictions = predictions.round()\n",
    "    accuracy = (predictions == y).float().mean()\n",
    "    print(f'Model Accuracy: {accuracy.item() * 100:.2f}%')"
   ]
  },
  {
   "cell_type": "markdown",
   "id": "8a55d9dd",
   "metadata": {},
   "source": [
    "### 3. Visualizing the Learning Process:\n",
    "Modify the neural network code from Question 2 to record the loss at each epoch. Plot the loss over epochs using Matplotlib to visualize how the network learns over time.\n"
   ]
  },
  {
   "cell_type": "code",
   "execution_count": 11,
   "id": "4219d714",
   "metadata": {},
   "outputs": [
    {
     "data": {
      "image/png": "[encoded data removed]",
      "text/plain": [
       "<Figure size 640x480 with 1 Axes>"
      ]
     },
     "metadata": {},
     "output_type": "display_data"
    }
   ],
   "source": [
    "import matplotlib.pyplot as plt\n",
    "\n",
    "losses = []\n",
    "\n",
    "# Train the model and record the loss\n",
    "for epoch in range(5000):\n",
    "    y_pred=model(X)\n",
    "    loss=criterion(y_pred,y)\n",
    "    optimizer.zero_grad()\n",
    "    loss.backward()\n",
    "    optimizer.step()\n",
    "    losses.append(loss.item())\n",
    "\n",
    "plt.plot(losses,label='Training loss')\n",
    "plt.title('Visualization of Training')\n",
    "plt.xlabel('Epoch')\n",
    "plt.ylabel('Loss')\n",
    "plt.show()\n",
    "\n",
    "# Plot the loss over epochs\n"
   ]
  },
  {
   "cell_type": "markdown",
   "id": "c4ac3842",
   "metadata": {},
   "source": [
    "## Submission Instructions:\n",
    "- Answer the theoretical questions in a separate markdown\n",
    "- Include comments in your code to explain your implementation.\n"
   ]
  }
 ],
 "metadata": {
  "kernelspec": {
   "display_name": "Python 3",
   "language": "python",
   "name": "python3"
  },
  "language_info": {
   "codemirror_mode": {
    "name": "ipython",
    "version": 3
   },
   "file_extension": ".py",
   "mimetype": "text/x-python",
   "name": "python",
   "nbconvert_exporter": "python",
   "pygments_lexer": "ipython3",
   "version": "3.12.4"
  }
 },
 "nbformat": 4,
 "nbformat_minor": 5
}
