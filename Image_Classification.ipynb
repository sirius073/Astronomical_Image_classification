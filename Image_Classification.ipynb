{
 "cells": [
  {
   "cell_type": "markdown",
   "metadata": {},
   "source": [
    "Importing of all the necessary libraries"
   ]
  },
  {
   "cell_type": "code",
   "execution_count": 25,
   "metadata": {},
   "outputs": [],
   "source": [
    "import numpy as np\n",
    "import torch\n",
    "import matplotlib.pyplot as plt\n",
    "import torchvision \n",
    "import torch.nn as nn\n",
    "import torchvision.transforms as transforms\n",
    "from torch.utils.data import DataLoader, random_split"
   ]
  },
  {
   "cell_type": "markdown",
   "metadata": {},
   "source": [
    "Uploading dataset and using transforms to convert into tensors"
   ]
  },
  {
   "cell_type": "code",
   "execution_count": 34,
   "metadata": {},
   "outputs": [
    {
     "name": "stdout",
     "output_type": "stream",
     "text": [
      "Files already downloaded and verified\n",
      "Files already downloaded and verified\n"
     ]
    }
   ],
   "source": [
    "transform=transforms.Compose([\n",
    "    transforms.ToTensor(),\n",
    "    transforms.Normalize((0.5,0.5,0.5),(0.5,0.5,0.5))\n",
    "])\n",
    "train_dataset=torchvision.datasets.CIFAR10(root='./data',train=True,download=True,transform=transform)\n",
    "test_dataset=torchvision.datasets.CIFAR10(root='./data',train=False,download=True,transform=transform)"
   ]
  },
  {
   "cell_type": "markdown",
   "metadata": {},
   "source": [
    "Making trainset, valset and testset"
   ]
  },
  {
   "cell_type": "code",
   "execution_count": 35,
   "metadata": {},
   "outputs": [],
   "source": [
    "train_size=int(0.8*len(train_dataset))\n",
    "val_size=len(train_dataset)-train_size\n",
    "trainset, valset = random_split(train_dataset, [train_size, val_size])"
   ]
  },
  {
   "cell_type": "code",
   "execution_count": 36,
   "metadata": {},
   "outputs": [],
   "source": [
    "trainloader = DataLoader(trainset, batch_size=64, shuffle=True)\n",
    "valloader = DataLoader(valset, batch_size=64, shuffle=False)\n",
    "testloader = DataLoader(test_dataset, batch_size=64, shuffle=False)"
   ]
  },
  {
   "cell_type": "markdown",
   "metadata": {},
   "source": [
    "Defining a basic CNN model for image classification "
   ]
  },
  {
   "cell_type": "code",
   "execution_count": 37,
   "metadata": {},
   "outputs": [],
   "source": [
    "class CNNModel(nn.Module):\n",
    "    def __init__(self):\n",
    "        super(CNNModel, self).__init__()\n",
    "        self.conv1 = nn.Conv2d(3, 32, 3, padding=1) \n",
    "        self.conv2 = nn.Conv2d(32, 64, 3, padding=1)  \n",
    "        self.pool = nn.MaxPool2d(2, 2) \n",
    "        self.fc1 = nn.Linear(64 * 8 * 8, 512)  \n",
    "        self.fc2 = nn.Linear(512, 64) \n",
    "        self.fc3 = nn.Linear(64,10)\n",
    "\n",
    "    def forward(self, x):\n",
    "        x = self.pool(torch.relu(self.conv1(x)))  \n",
    "        x = self.pool(torch.relu(self.conv2(x)))  \n",
    "        x = x.view(-1, 64 * 8 * 8)  \n",
    "        x = torch.relu(self.fc1(x))  \n",
    "        x = torch.relu(self.fc2(x))\n",
    "        x = self.fc3(x)  \n",
    "        return x"
   ]
  },
  {
   "cell_type": "markdown",
   "metadata": {},
   "source": [
    "Checking for cuda "
   ]
  },
  {
   "cell_type": "code",
   "execution_count": 38,
   "metadata": {},
   "outputs": [],
   "source": [
    "device = torch.device('cuda' if torch.cuda.is_available() else 'cpu')\n",
    "model = CNNModel().to(device)"
   ]
  },
  {
   "cell_type": "markdown",
   "metadata": {},
   "source": [
    "Deploying loss criteria and optimizer"
   ]
  },
  {
   "cell_type": "code",
   "execution_count": 39,
   "metadata": {},
   "outputs": [],
   "source": [
    "criterion = nn.CrossEntropyLoss() \n",
    "optimizer = torch.optim.Adam(model.parameters(), lr=0.001)"
   ]
  },
  {
   "cell_type": "markdown",
   "metadata": {},
   "source": [
    "Defining training function,validation test function and function to plot the accuracies"
   ]
  },
  {
   "cell_type": "code",
   "execution_count": 40,
   "metadata": {},
   "outputs": [],
   "source": [
    "def train_model(epochs=7):\n",
    "    train_losses = []\n",
    "    val_losses = []\n",
    "    best_val_acc = 0.0\n",
    "\n",
    "    for epoch in range(epochs):\n",
    "        model.train()  \n",
    "        running_loss = 0.0\n",
    "        epoch_train_loss = 0.0\n",
    "        for i, data in enumerate(trainloader, 0):\n",
    "            inputs, labels = data[0].to(device), data[1].to(device)\n",
    "\n",
    "            optimizer.zero_grad()\n",
    "\n",
    "            outputs = model(inputs)\n",
    "            loss = criterion(outputs, labels)\n",
    "\n",
    "            loss.backward()\n",
    "            optimizer.step()\n",
    "\n",
    "            running_loss += loss.item()\n",
    "            epoch_train_loss += loss.item()\n",
    "\n",
    "            if i % 100 == 99:\n",
    "                print(f'Epoch {epoch + 1}, Batch {i + 1}, Loss: {running_loss / 100:.3f}')\n",
    "                running_loss = 0.0\n",
    "\n",
    "        avg_train_loss = epoch_train_loss / len(trainloader)\n",
    "        train_losses.append(avg_train_loss)\n",
    "        val_loss, val_acc = validate_model()\n",
    "        val_losses.append(val_loss)\n",
    "        print(f'Epoch {epoch + 1}, Validation Loss: {val_loss:.3f}, Validation Accuracy: {val_acc:.2f}%')\n",
    "\n",
    "        if val_acc > best_val_acc:\n",
    "            best_val_acc = val_acc\n",
    "            torch.save(model.state_dict(), 'best_cnn_model.pth')\n",
    "            print(f'Best model saved with accuracy: {best_val_acc:.2f}%') # Finding the best model according to val accuracy\n",
    "\n",
    "    print('Training Finished.')\n",
    "    plot_losses(train_losses, val_losses)\n",
    "\n",
    "def validate_model():\n",
    "    model.eval() \n",
    "    val_loss = 0.0\n",
    "    correct = 0\n",
    "    total = 0\n",
    "    with torch.no_grad():\n",
    "        for data in valloader:\n",
    "            images, labels = data[0].to(device), data[1].to(device)\n",
    "            outputs = model(images)\n",
    "            loss = criterion(outputs, labels)\n",
    "            val_loss += loss.item()\n",
    "            _, predicted = torch.max(outputs.data, 1)\n",
    "            total += labels.size(0)\n",
    "            correct += (predicted == labels).sum().item()\n",
    "    \n",
    "    avg_val_loss = val_loss / len(valloader)\n",
    "    val_acc = 100 * correct / total\n",
    "    return avg_val_loss, val_acc\n",
    "\n",
    "def plot_losses(train_losses, val_losses):\n",
    "    plt.figure(figsize=(10, 5))\n",
    "    plt.plot(train_losses, label='Training Loss')\n",
    "    plt.plot(val_losses, label='Validation Loss')\n",
    "    plt.title('Training and Validation Loss Over Epochs')\n",
    "    plt.xlabel('Epochs')\n",
    "    plt.ylabel('Loss')\n",
    "    plt.legend()\n",
    "    plt.show()"
   ]
  },
  {
   "cell_type": "markdown",
   "metadata": {},
   "source": [
    "Training the model"
   ]
  },
  {
   "cell_type": "code",
   "execution_count": 41,
   "metadata": {},
   "outputs": [
    {
     "name": "stdout",
     "output_type": "stream",
     "text": [
      "Epoch 1, Batch 100, Loss: 1.938\n",
      "Epoch 1, Batch 200, Loss: 1.586\n",
      "Epoch 1, Batch 300, Loss: 1.479\n",
      "Epoch 1, Batch 400, Loss: 1.355\n",
      "Epoch 1, Batch 500, Loss: 1.284\n",
      "Epoch 1, Batch 600, Loss: 1.239\n",
      "Epoch 1, Validation Loss: 1.188, Validation Accuracy: 57.31%\n",
      "Best model saved with accuracy: 57.31%\n",
      "Epoch 2, Batch 100, Loss: 1.128\n",
      "Epoch 2, Batch 200, Loss: 1.110\n",
      "Epoch 2, Batch 300, Loss: 1.035\n",
      "Epoch 2, Batch 400, Loss: 1.010\n",
      "Epoch 2, Batch 500, Loss: 1.000\n",
      "Epoch 2, Batch 600, Loss: 0.997\n",
      "Epoch 2, Validation Loss: 0.987, Validation Accuracy: 64.41%\n",
      "Best model saved with accuracy: 64.41%\n",
      "Epoch 3, Batch 100, Loss: 0.853\n",
      "Epoch 3, Batch 200, Loss: 0.864\n",
      "Epoch 3, Batch 300, Loss: 0.842\n",
      "Epoch 3, Batch 400, Loss: 0.848\n",
      "Epoch 3, Batch 500, Loss: 0.824\n",
      "Epoch 3, Batch 600, Loss: 0.805\n",
      "Epoch 3, Validation Loss: 0.886, Validation Accuracy: 68.97%\n",
      "Best model saved with accuracy: 68.97%\n",
      "Epoch 4, Batch 100, Loss: 0.677\n",
      "Epoch 4, Batch 200, Loss: 0.701\n",
      "Epoch 4, Batch 300, Loss: 0.716\n",
      "Epoch 4, Batch 400, Loss: 0.679\n",
      "Epoch 4, Batch 500, Loss: 0.682\n",
      "Epoch 4, Batch 600, Loss: 0.691\n",
      "Epoch 4, Validation Loss: 0.880, Validation Accuracy: 69.70%\n",
      "Best model saved with accuracy: 69.70%\n",
      "Epoch 5, Batch 100, Loss: 0.512\n",
      "Epoch 5, Batch 200, Loss: 0.544\n",
      "Epoch 5, Batch 300, Loss: 0.554\n",
      "Epoch 5, Batch 400, Loss: 0.562\n",
      "Epoch 5, Batch 500, Loss: 0.562\n",
      "Epoch 5, Batch 600, Loss: 0.550\n",
      "Epoch 5, Validation Loss: 0.856, Validation Accuracy: 71.62%\n",
      "Best model saved with accuracy: 71.62%\n",
      "Epoch 6, Batch 100, Loss: 0.384\n",
      "Epoch 6, Batch 200, Loss: 0.390\n",
      "Epoch 6, Batch 300, Loss: 0.391\n",
      "Epoch 6, Batch 400, Loss: 0.418\n",
      "Epoch 6, Batch 500, Loss: 0.413\n",
      "Epoch 6, Batch 600, Loss: 0.444\n",
      "Epoch 6, Validation Loss: 0.902, Validation Accuracy: 72.13%\n",
      "Best model saved with accuracy: 72.13%\n",
      "Epoch 7, Batch 100, Loss: 0.256\n",
      "Epoch 7, Batch 200, Loss: 0.273\n",
      "Epoch 7, Batch 300, Loss: 0.272\n",
      "Epoch 7, Batch 400, Loss: 0.281\n",
      "Epoch 7, Batch 500, Loss: 0.303\n",
      "Epoch 7, Batch 600, Loss: 0.287\n",
      "Epoch 7, Validation Loss: 1.027, Validation Accuracy: 71.26%\n",
      "Epoch 8, Batch 100, Loss: 0.153\n",
      "Epoch 8, Batch 200, Loss: 0.152\n",
      "Epoch 8, Batch 300, Loss: 0.168\n",
      "Epoch 8, Batch 400, Loss: 0.193\n",
      "Epoch 8, Batch 500, Loss: 0.185\n",
      "Epoch 8, Batch 600, Loss: 0.211\n",
      "Epoch 8, Validation Loss: 1.182, Validation Accuracy: 71.16%\n",
      "Epoch 9, Batch 100, Loss: 0.107\n",
      "Epoch 9, Batch 200, Loss: 0.090\n",
      "Epoch 9, Batch 300, Loss: 0.110\n",
      "Epoch 9, Batch 400, Loss: 0.117\n",
      "Epoch 9, Batch 500, Loss: 0.133\n",
      "Epoch 9, Batch 600, Loss: 0.168\n",
      "Epoch 9, Validation Loss: 1.351, Validation Accuracy: 70.63%\n",
      "Epoch 10, Batch 100, Loss: 0.082\n",
      "Epoch 10, Batch 200, Loss: 0.075\n",
      "Epoch 10, Batch 300, Loss: 0.092\n",
      "Epoch 10, Batch 400, Loss: 0.106\n",
      "Epoch 10, Batch 500, Loss: 0.120\n",
      "Epoch 10, Batch 600, Loss: 0.133\n",
      "Epoch 10, Validation Loss: 1.477, Validation Accuracy: 70.90%\n",
      "Epoch 11, Batch 100, Loss: 0.056\n",
      "Epoch 11, Batch 200, Loss: 0.077\n",
      "Epoch 11, Batch 300, Loss: 0.089\n",
      "Epoch 11, Batch 400, Loss: 0.099\n",
      "Epoch 11, Batch 500, Loss: 0.102\n",
      "Epoch 11, Batch 600, Loss: 0.091\n",
      "Epoch 11, Validation Loss: 1.775, Validation Accuracy: 71.05%\n",
      "Epoch 12, Batch 100, Loss: 0.051\n",
      "Epoch 12, Batch 200, Loss: 0.056\n",
      "Epoch 12, Batch 300, Loss: 0.049\n",
      "Epoch 12, Batch 400, Loss: 0.077\n",
      "Epoch 12, Batch 500, Loss: 0.094\n",
      "Epoch 12, Batch 600, Loss: 0.080\n",
      "Epoch 12, Validation Loss: 1.701, Validation Accuracy: 70.29%\n",
      "Training Finished.\n"
     ]
    },
    {
     "data": {
      "image/png": "[encoded data removed]",
      "text/plain": [
       "<Figure size 1000x500 with 1 Axes>"
      ]
     },
     "metadata": {},
     "output_type": "display_data"
    }
   ],
   "source": [
    "train_model(epochs=12)"
   ]
  },
  {
   "cell_type": "markdown",
   "metadata": {},
   "source": [
    "Testing the model for final accuracy"
   ]
  },
  {
   "cell_type": "code",
   "execution_count": 42,
   "metadata": {},
   "outputs": [],
   "source": [
    "def test_model():\n",
    "    model.eval() \n",
    "    correct = 0\n",
    "    total = 0\n",
    "    with torch.no_grad():\n",
    "        for data in testloader:\n",
    "            images, labels = data[0].to(device), data[1].to(device)\n",
    "            outputs = model(images)\n",
    "            _, predicted = torch.max(outputs.data, 1)\n",
    "            total += labels.size(0)\n",
    "            correct += (predicted == labels).sum().item()\n",
    "    print(f'Accuracy on test set: {100 * correct / total:.2f}%')"
   ]
  },
  {
   "cell_type": "code",
   "execution_count": 43,
   "metadata": {},
   "outputs": [
    {
     "name": "stderr",
     "output_type": "stream",
     "text": [
      "C:\\Users\\rishi\\AppData\\Local\\Temp\\ipykernel_18744\\3979399372.py:1: FutureWarning: You are using `torch.load` with `weights_only=False` (the current default value), which uses the default pickle module implicitly. It is possible to construct malicious pickle data which will execute arbitrary code during unpickling (See https://github.com/pytorch/pytorch/blob/main/SECURITY.md#untrusted-models for more details). In a future release, the default value for `weights_only` will be flipped to `True`. This limits the functions that could be executed during unpickling. Arbitrary objects will no longer be allowed to be loaded via this mode unless they are explicitly allowlisted by the user via `torch.serialization.add_safe_globals`. We recommend you start setting `weights_only=True` for any use case where you don't have full control of the loaded file. Please open an issue on GitHub for any issues related to this experimental feature.\n",
      "  model.load_state_dict(torch.load('best_cnn_model.pth'))\n"
     ]
    },
    {
     "name": "stdout",
     "output_type": "stream",
     "text": [
      "Accuracy on test set: 72.28%\n"
     ]
    }
   ],
   "source": [
    "model.load_state_dict(torch.load('best_cnn_model.pth'))\n",
    "test_model()"
   ]
  },
  {
   "cell_type": "markdown",
   "metadata": {},
   "source": [
    "Hence the final accuracy obtained on the test dataset is 72.28% (I tried training using several different batch_sizes, learning rates, different types of layers in the model etc...all of them tend to have the same best validation accuracy. So the one shown in this notebook is one out of many trials I did)"
   ]
  }
 ],
 "metadata": {
  "kernelspec": {
   "display_name": "Python 3",
   "language": "python",
   "name": "python3"
  },
  "language_info": {
   "codemirror_mode": {
    "name": "ipython",
    "version": 3
   },
   "file_extension": ".py",
   "mimetype": "text/x-python",
   "name": "python",
   "nbconvert_exporter": "python",
   "pygments_lexer": "ipython3",
   "version": "3.12.4"
  }
 },
 "nbformat": 4,
 "nbformat_minor": 2
}
